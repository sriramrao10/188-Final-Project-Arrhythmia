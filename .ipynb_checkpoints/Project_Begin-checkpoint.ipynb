{
 "cells": [
  {
   "cell_type": "code",
   "execution_count": 3,
   "metadata": {},
   "outputs": [],
   "source": [
    "import sklearn as sk\n",
    "import numpy as np\n",
    "import matplotlib.pyplot as plt\n",
    "\n",
    "\n",
    "#import data\n",
    "data = np.loadtxt(\"arrhythmia.csv\", delimiter = \",\")\n",
    "\n",
    "#transpose data, to transverse columns easily \n",
    "data = np.transpose(data)\n",
    "\n",
    "#go to each column, and replace every 1000 with the average value of the non-1000 values in that column\n",
    "for i in range(len(data)):\n",
    "    column = data[i]\n",
    "    numberOfNon1000 = len(column)\n",
    "    sum = 0\n",
    "    for j in range(len(column)):\n",
    "        if (data[i][j] != 1000):\n",
    "            sum += data[i][j]\n",
    "        else:\n",
    "            numberOfNon1000 -=1\n",
    "    for j in range(len(column)):\n",
    "        if (data[i][j] == 1000):\n",
    "            data[i][j] = sum / numberOfNon1000\n",
    "\n",
    "#sanity check - are there any 1000s in the data still?\n",
    "for column in data:\n",
    "    for i in column:\n",
    "        if (i == 1000):\n",
    "            print (\"bad\")\n",
    "            \n",
    "            \n",
    "#re-transpose data\n",
    "data = np.transpose(data)"
   ]
  },
  {
   "cell_type": "code",
   "execution_count": 4,
   "metadata": {},
   "outputs": [
    {
     "data": {
      "image/png": "[encoded data removed]",
      "text/plain": [
       "<Figure size 432x288 with 1 Axes>"
      ]
     },
     "metadata": {
      "needs_background": "light"
     },
     "output_type": "display_data"
    }
   ],
   "source": [
    "from sklearn.cross_decomposition import PLSRegression\n",
    "from sklearn.metrics import r2_score\n",
    "\n",
    "\n",
    "X = data[:, 0:277]\n",
    "Y = data[:, 278]\n",
    "\n",
    "xMean = np.mean(X)\n",
    "yMean = np.mean(Y)\n",
    "xSD = np.std(X)\n",
    "ySD = np.std(Y)\n",
    "\n",
    "Xnorm = (X - xMean)/xSD\n",
    "Ynorm = (Y - yMean)/ySD\n",
    "\n",
    "# Determine R2 scores\n",
    "r_arr = []\n",
    "for i in range(1,16):\n",
    "    pls_i = PLSRegression(n_components = i)\n",
    "    pls_i.fit(Xnorm, Ynorm)\n",
    "    Y_predi = pls_i.predict(Xnorm)\n",
    "    r_arr.append(r2_score(Ynorm , Y_predi))\n",
    "    \n",
    "# Plot percent variance \n",
    "index = [1, 2, 3, 4, 5, 6, 7, 8, 9, 10, 11, 12, 13, 14, 15]\n",
    "plt.scatter(index,r_arr);\n",
    "plt.xlabel('Number of components');\n",
    "plt.ylabel('R2Y');\n",
    "plt.xticks(index, index);"
   ]
  },
  {
   "cell_type": "code",
   "execution_count": 5,
   "metadata": {},
   "outputs": [
    {
     "name": "stdout",
     "output_type": "stream",
     "text": [
      "R2 value:  -0.4380094983834222\n"
     ]
    }
   ],
   "source": [
    "# Perform leave-one-out cross validation\n",
    "from sklearn.model_selection import LeaveOneOut\n",
    "loo = LeaveOneOut()\n",
    "\n",
    "Y_obs = []\n",
    "Y_pred = []\n",
    "pls_loo = PLSRegression(n_components = 12)\n",
    "\n",
    "for train_index, test_index in loo.split(X, Y):    \n",
    "    pls_loo.fit_transform(X[train_index], Y[train_index])\n",
    "    pls_loo.transform(X[test_index])\n",
    "    \n",
    "    ypred = pls_loo.predict(X[test_index])    \n",
    "    yobs = Y[test_index]\n",
    "    \n",
    "    Y_obs.append(ypred[0,0])\n",
    "    Y_pred.append(yobs[0]) \n",
    "    \n",
    "r2_loo = r2_score(Y_obs, Y_pred)\n",
    "print('R2 value: ', r2_loo)  "
   ]
  },
  {
   "cell_type": "code",
   "execution_count": 6,
   "metadata": {},
   "outputs": [
    {
     "name": "stdout",
     "output_type": "stream",
     "text": [
      "Percent correctly identified: (no crossvalidation):  0.8893805309734514\n"
     ]
    }
   ],
   "source": [
    "#attempting PLS-DA, only trying to distinguish between arrhythmia and no arr\n",
    "from sklearn import preprocessing as pre\n",
    "\n",
    "#normalize X data according to how Yi says it should be\n",
    "X_normal = pre.scale(X)\n",
    "\n",
    "#make Y matrix of 0s and 1s - 0 = no arr, 1 = some type of arr\n",
    "Y_binary = []\n",
    "for i in range(len(Y)):\n",
    "    if (Y[i] == 1): Y_binary.append(0)\n",
    "    else: Y_binary.append(1)\n",
    "\n",
    "#do PLSR\n",
    "plsda = PLSRegression(n_components = 10)\n",
    "pc_space = plsda.fit_transform(X_normal, Y_binary)[0]\n",
    "Y_plsda = plsda.predict(X_normal)\n",
    "\n",
    "#change predictions from PLS into binary values, and compare to Y_binary\n",
    "for i in range(len(Y_plsda)):\n",
    "    if (Y_plsda[i] > 0.5):\n",
    "        Y_plsda[i] = 1\n",
    "    else:\n",
    "        Y_plsda[i] = 0\n",
    "\n",
    "correct = 0\n",
    "for i in range(len(Y_binary)):\n",
    "    if (Y_binary[i] == Y_plsda[i]):\n",
    "        correct += 1\n",
    "print (\"Percent correctly identified: (no crossvalidation): \", correct / len(Y_binary))\n"
   ]
  },
  {
   "cell_type": "code",
   "execution_count": 18,
   "metadata": {},
   "outputs": [
    {
     "data": {
      "image/png": "[encoded data removed]",
      "text/plain": [
       "<Figure size 432x288 with 1 Axes>"
      ]
     },
     "metadata": {
      "needs_background": "light"
     },
     "output_type": "display_data"
    }
   ],
   "source": [
    "# trying to make an ROC curve with the crossvalidation results\n",
    "from sklearn.metrics import roc_curve, auc\n",
    "from sklearn.model_selection import StratifiedKFold\n",
    "\n",
    "Y_binary = np.array(Y_binary)\n",
    "\n",
    "cv = StratifiedKFold(n_splits = 5)\n",
    "i = 0 \n",
    "for train,test in cv.split(X_normal, Y_binary):\n",
    "    plsda.fit(X_normal[train], Y_binary[train])\n",
    "    Y_plsda = plsda.predict(X[test])\n",
    "    fpr, tpr, thresholds = roc_curve(Y_binary[test], Y_plsda)\n",
    "    plt.plot(fpr,tpr)"
   ]
  },
  {
   "cell_type": "code",
   "execution_count": null,
   "metadata": {},
   "outputs": [],
   "source": []
  }
 ],
 "metadata": {
  "kernelspec": {
   "display_name": "Python 3",
   "language": "python",
   "name": "python3"
  },
  "language_info": {
   "codemirror_mode": {
    "name": "ipython",
    "version": 3
   },
   "file_extension": ".py",
   "mimetype": "text/x-python",
   "name": "python",
   "nbconvert_exporter": "python",
   "pygments_lexer": "ipython3",
   "version": "3.7.1"
  }
 },
 "nbformat": 4,
 "nbformat_minor": 2
}
