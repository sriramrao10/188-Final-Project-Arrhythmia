{
 "cells": [
  {
   "cell_type": "code",
   "execution_count": 17,
   "metadata": {},
   "outputs": [],
   "source": [
    "import sklearn as sk\n",
    "import numpy as np\n",
    "import matplotlib as plt\n",
    "\n",
    "\n",
    "#import data\n",
    "data = np.loadtxt(\"arrhythmia.csv\", delimiter = \",\")\n",
    "\n",
    "#transpose data, to transverse columns easily \n",
    "data = np.transpose(data)\n",
    "\n",
    "#go to each column, and replace every 1000 with the average value of the non-1000 values in that column\n",
    "for i in range(len(data)):\n",
    "    column = data[i]\n",
    "    numberOfNon1000 = len(column)\n",
    "    sum = 0\n",
    "    for j in range(len(column)):\n",
    "        if (data[i][j] != 1000):\n",
    "            sum += data[i][j]\n",
    "        else:\n",
    "            numberOfNon1000 -=1\n",
    "    for j in range(len(column)):\n",
    "        if (data[i][j] == 1000):\n",
    "            data[i][j] = sum / numberOfNon1000\n",
    "\n",
    "#sanity check - are there any 1000s in the data still?\n",
    "for column in data:\n",
    "    for i in column:\n",
    "        if (i == 1000):\n",
    "            print (\"bad\")"
   ]
  },
  {
   "cell_type": "code",
   "execution_count": null,
   "metadata": {},
   "outputs": [],
   "source": []
  }
 ],
 "metadata": {
  "kernelspec": {
   "display_name": "Python 3",
   "language": "python",
   "name": "python3"
  },
  "language_info": {
   "codemirror_mode": {
    "name": "ipython",
    "version": 3
   },
   "file_extension": ".py",
   "mimetype": "text/x-python",
   "name": "python",
   "nbconvert_exporter": "python",
   "pygments_lexer": "ipython3",
   "version": "3.7.1"
  }
 },
 "nbformat": 4,
 "nbformat_minor": 2
}
